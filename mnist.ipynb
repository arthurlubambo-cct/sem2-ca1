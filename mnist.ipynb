{
 "cells": [
  {
   "cell_type": "code",
   "execution_count": 18,
   "id": "cd44d7a3-349b-4793-b42a-ae3d0b32e50c",
   "metadata": {
    "tags": []
   },
   "outputs": [],
   "source": [
    "import matplotlib.pyplot as plt\n",
    "import numpy as np\n",
    "import tensorflow as tf\n",
    "import pandas as pd\n",
    "import keras\n",
    "from sklearn.metrics import accuracy_score, precision_score, recall_score\n",
    "from sklearn.model_selection import train_test_split\n",
    "from tensorflow.keras import layers, losses\n",
    "from tensorflow.keras.datasets import fashion_mnist\n",
    "from tensorflow.keras.datasets import mnist\n",
    "from tensorflow.keras.models import Model\n"
   ]
  },
  {
   "cell_type": "code",
   "execution_count": 19,
   "id": "a0a5e009",
   "metadata": {},
   "outputs": [],
   "source": [
    "from tensorflow.keras.datasets import mnist\n",
    "from pyspark.sql.types import StructType,StructField, StringType, FloatType, ArrayType"
   ]
  },
  {
   "cell_type": "code",
   "execution_count": 20,
   "id": "ee9bea4e",
   "metadata": {},
   "outputs": [],
   "source": [
    "import pandas as pd"
   ]
  },
  {
   "cell_type": "code",
   "execution_count": 21,
   "id": "dd3df554-27da-41e1-9756-0cedc4998fdc",
   "metadata": {
    "tags": []
   },
   "outputs": [],
   "source": [
    "# train, test load data\n",
    "(x_train, y_train), (x_test, y_test) = mnist.load_data()\n",
    "\n",
    "# Normalize values to [0, 1]\n",
    "x_train = x_train.astype('float32') / 255.0\n",
    "x_test = x_test.astype('float32') / 255.0"
   ]
  },
  {
   "cell_type": "code",
   "execution_count": 22,
   "id": "95c42cc9",
   "metadata": {},
   "outputs": [],
   "source": [
    "# PY SPARK VERSION OF THE DATAFRAME\n",
    "# def get_ps_dataFrame(x_data,y_data):\n",
    "#     data_unified = [( x_data[i].tolist(), str(y_data[i])) for i in range(len(x_data))]\n",
    "#     schema = StructType([ \n",
    "#         StructField(\"image\",ArrayType(ArrayType(FloatType())),False), \n",
    "#         StructField(\"class\", StringType(), False) \n",
    "#       ])\n",
    "#     df = spark.createDataFrame(data=data_unified,schema=schema)\n",
    "#     return df\n",
    "# train_df = get_ps_dataFrame(x_train, y_train)"
   ]
  },
  {
   "cell_type": "code",
   "execution_count": 23,
   "id": "bc0ede4c",
   "metadata": {},
   "outputs": [],
   "source": [
    "# print((df.count(), len(df.columns)))"
   ]
  },
  {
   "cell_type": "code",
   "execution_count": 24,
   "id": "fa5888ba",
   "metadata": {},
   "outputs": [],
   "source": [
    "def get_pd_dataFrame(x_data,y_data):\n",
    "    return pd.DataFrame(data={'image':x_data.tolist(), 'class':y_data.tolist()})\n",
    "train_df = get_pd_dataFrame(x_train, y_train)"
   ]
  },
  {
   "cell_type": "code",
   "execution_count": 25,
   "id": "38eeb6eb",
   "metadata": {},
   "outputs": [],
   "source": [
    "def augment_data_cross_same_class_pair(df:pd.DataFrame):\n",
    "    sorted_df = df.sort_values(\"class\").reset_index(drop=True)\n",
    "    shuffled_sorted_df = sorted_df.sample(frac=1).reset_index(drop=True).sort_values(\"class\").reset_index(drop=True)\n",
    "    shuffled_sorted_df.rename(columns={'image':'imagePair',\"class\": \"classPair\"}, inplace=True)\n",
    "    result = pd.concat([sorted_df, shuffled_sorted_df], axis=1)\n",
    "    return result[['image','imagePair', 'class']].sample(frac=1).reset_index(drop=True)\n",
    "\n",
    "same_class_cross_df = augment_data_cross_same_class_pair(train_df)"
   ]
  },
  {
   "cell_type": "code",
   "execution_count": 98,
   "id": "1875063e",
   "metadata": {},
   "outputs": [],
   "source": [
    "from sklearn.model_selection import train_test_split\n",
    "import tensorflow as tf\n",
    "\n",
    "def series_to_tensor(series:pd.Series):\n",
    "    tensor_list = list(series.apply(lambda x: tf.constant(x)))\n",
    "    return tf.stack(tensor_list)\n",
    "\n",
    "def split_df(df, frac = 0.1):\n",
    "    copy_df = df.copy()\n",
    "    test = copy_df.sample(frac=frac)\n",
    "    train = copy_df.drop(test.index)\n",
    "    return [train, test]\n",
    "def prepare_data_traditional_autoencoder_data(df):\n",
    "    [tr_df, val_df] = split_df(df, frac=0.1)\n",
    "    \n",
    "    image_tensor = series_to_tensor(tr_df['image'])\n",
    "    in_x_train = image_tensor\n",
    "    out_x_train = image_tensor\n",
    "    \n",
    "    image_val_tensor = series_to_tensor(val_df['image'])\n",
    "    in_x_val = image_val_tensor\n",
    "    out_x_val = image_val_tensor\n",
    "    \n",
    "    return [in_x_train, out_x_train, in_x_val, out_x_val]\n",
    "\n",
    "def prepare_train_cross_same_class_autoencoder_data(df, additional_same_class_df):\n",
    "    original_df =  df.copy()\n",
    "    original_df[\"imagePair\"] = original_df[\"image\"]\n",
    "    concat_df = pd.concat([original_df, additional_same_class_df])\n",
    "    concat_df = concat_df.sample(frac=1).reset_index(drop=True)\n",
    "    \n",
    "    concat_train_df, concat_validation_df = split_df(concat_df, frac=0.1)\n",
    "    in_x_train = series_to_tensor(concat_train_df['image'])\n",
    "    out_x_train = series_to_tensor(concat_train_df['imagePair'])\n",
    "    in_x_val = series_to_tensor(concat_validation_df['image'])\n",
    "    out_x_val = series_to_tensor(concat_validation_df['imagePair'])\n",
    "    return [in_x_train, out_x_train,in_x_val, out_x_val]\n"
   ]
  },
  {
   "cell_type": "code",
   "execution_count": 104,
   "id": "c9f2999f",
   "metadata": {},
   "outputs": [],
   "source": [
    "[trad_ae_x_in,  trad_ae_x_out, trad_ae_x_in_val, trad_ae_x_out_val]= prepare_data_traditional_autoencoder_data(train_df)\n",
    "\n",
    "[cross_same_class_ae_x_in,  cross_same_class_ae_x_out, cross_same_class_ae_x_in_val, cross_same_class_ae_x_out_val]= prepare_train_cross_same_class_autoencoder_data(train_df, same_class_cross_df)\n",
    "\n"
   ]
  },
  {
   "cell_type": "code",
   "execution_count": 105,
   "id": "9fce0e7e",
   "metadata": {},
   "outputs": [],
   "source": [
    "from keras import layers\n",
    "class ConvolutionalAutoencoder(keras.Model):\n",
    "    def __init__(self,  input_shape ):\n",
    "        super(ConvolutionalAutoencoder, self).__init__(input_shape,input_shape)\n",
    "        self.shape = input_shape\n",
    "        self.encoder = tf.keras.Sequential([\n",
    "            input_shape,\n",
    "            layers.Conv2D(16, (3, 3), activation='relu'),\n",
    "            layers.MaxPooling2D((2,2), padding='same'),\n",
    "            layers.Conv2D(8, (3, 3), activation='relu', padding='same'),\n",
    "            layers.MaxPooling2D((2,2), padding='same'),\n",
    "            layers.Conv2D(8, (3, 3), activation='relu', padding='same'),\n",
    "            layers.MaxPooling2D((2,2), padding='same'),\n",
    "        ])\n",
    "        encoder_output_shape = self.encoder.layers[-1].output_shape\n",
    "        self.decoder = tf.keras.Sequential([\n",
    "            layers.Conv2D(8, (3, 3), activation='relu', padding='same', input_shape=encoder_output_shape[1:]),\n",
    "            layers.UpSampling2D((2, 2)),\n",
    "            layers.Conv2D(8, (3, 3), activation='relu', padding='same'),\n",
    "            layers.UpSampling2D((2, 2)),\n",
    "            layers.Conv2D(16, (3, 3), activation='relu'),\n",
    "            layers.UpSampling2D((2, 2)),\n",
    "            layers.Conv2D(1, (3, 3), activation='sigmoid', padding='same'),\n",
    "        ])\n",
    "\n",
    "    def call(self, inputs,training = False):\n",
    "        encoded = self.encoder(inputs)\n",
    "        decoded = self.decoder(encoded)\n",
    "        return decoded\n",
    "\n"
   ]
  },
  {
   "cell_type": "code",
   "execution_count": 109,
   "id": "ca066265",
   "metadata": {},
   "outputs": [],
   "source": [
    "\n",
    "from sklearn.neighbors import KNeighborsClassifier\n",
    "from sklearn.metrics.cluster import rand_score\n",
    "from sklearn.metrics import f1_score\n",
    "\n",
    "def calculate_embed_vectors(model,x_data):\n",
    "    #run encoder to get embeded vector in latent space     \n",
    "    result = model.encoder.predict(x_data)\n",
    "    #flat array into 1d array (vector)     \n",
    "    return np.array(list(map(lambda x: x.flatten(), result)))\n",
    "\n",
    "def calculate_centroids(vectors, y_data):\n",
    "    classes = np.unique(y_data)\n",
    "    class_vectors = {}\n",
    "    for img_class in classes:\n",
    "        class_vectors[img_class] = np.mean(vectors[np.where(y_data == img_class)], axis=0)        \n",
    "    return class_vectors\n",
    "\n",
    "def get_estimated_class(model, x_data, y_data):\n",
    "    vectors = calculate_embed_vectors(model,x_data)\n",
    "    class_centroids = calculate_centroids(vectors, y_data)\n",
    "    classes = np.array(list(class_centroids.keys()))\n",
    "    centroids = np.array(list(class_centroids.values()))\n",
    "    knn = KNeighborsClassifier(n_neighbors=1)\n",
    "    knn.fit(centroids,classes)\n",
    "    return knn.predict(vectors)\n",
    "\n",
    "def calculate_rand_index(model, x_data, y_data):\n",
    "    labels_pred = get_estimated_class(model, x_data, y_data)\n",
    "    return {\n",
    "        'rand_score':rand_score(y_data,labels_pred),\n",
    "        'f1_score':f1_score(y_data,labels_pred,average='macro')\n",
    "           } "
   ]
  },
  {
   "cell_type": "code",
   "execution_count": 110,
   "id": "9dab05f1",
   "metadata": {},
   "outputs": [],
   "source": [
    "from matplotlib import pyplot as plt\n",
    "from keras.callbacks import ModelCheckpoint, EarlyStopping\n",
    "\n",
    "class ExperimentConfig:\n",
    "    def __init__(self):\n",
    "        self.name = \"\"\n",
    "        self.model = None\n",
    "        self.x_input_train = None\n",
    "        self.x_output_train = None\n",
    "        self.x_input_val = None\n",
    "        self.x_output_val = None\n",
    "        self.y_train = None\n",
    "        self.x_data_test = None\n",
    "        self.y_data_test = None\n",
    "    \n",
    "def train_model(exp_config : ExperimentConfig):\n",
    "    exp_config.model.compile(optimizer='adam', loss='mse')\n",
    "\n",
    "    # specify the path where you want to save your models\n",
    "    checkpoint_file_path =  f'./checkpoints/{exp_config.name}'\n",
    "    \n",
    "    # create a model checkpoint callback\n",
    "    checkpoint = ModelCheckpoint(\n",
    "        checkpoint_file_path, \n",
    "        monitor='val_loss',\n",
    "        verbose=0, \n",
    "        save_weights_only=True, \n",
    "        save_best_only=False,\n",
    "        mode='min', \n",
    "        save_freq=\"epoch\")\n",
    "    \n",
    "    #early stopping mechanism to avoid waste resources     \n",
    "    early_stopping = EarlyStopping(monitor='val_loss', patience=10, start_from_epoch=15)\n",
    "    \n",
    "    history = exp_config.model.fit(exp_config.x_input_train, exp_config.x_output_train,\n",
    "                    epochs=100,\n",
    "                    batch_size=200,\n",
    "                    shuffle=True,\n",
    "                    validation_data=(exp_config.x_input_val, exp_config.x_output_val),\n",
    "                    callbacks=[checkpoint,early_stopping])\n",
    "    \n",
    "    return exp_config.model, history\n",
    "\n",
    "def plot_history(exp_config, history):\n",
    "    plt.plot(history.history['loss'])\n",
    "    plt.plot(history.history['val_loss'])\n",
    "    plt.title(f'{exp_config.name} model loss')\n",
    "    plt.ylabel('loss')\n",
    "    plt.xlabel('epoch')\n",
    "    plt.legend(['train', 'val'], loc='upper left')\n",
    "    plt.show()\n",
    "    \n",
    "    \n",
    "def run_experiment( exp_config : ExperimentConfig):\n",
    "    model, history = train_model(exp_config)\n",
    "    plot_history(exp_config, history) \n",
    "    result = calculate_rand_index(model, exp_config.x_data_test, exp_config.y_data_test) \n",
    "    print(result)\n",
    "    return model\n",
    "    "
   ]
  },
  {
   "cell_type": "code",
   "execution_count": 111,
   "id": "0aee4ec2",
   "metadata": {},
   "outputs": [
    {
     "name": "stdout",
     "output_type": "stream",
     "text": [
      "Epoch 1/3\n",
      "270/270 [==============================] - 14s 45ms/step - loss: 0.1197 - val_loss: 0.1126\n",
      "Epoch 2/3\n",
      "270/270 [==============================] - 12s 43ms/step - loss: 0.1119 - val_loss: 0.1126\n",
      "Epoch 3/3\n",
      "270/270 [==============================] - 11s 42ms/step - loss: 0.1119 - val_loss: 0.1126\n"
     ]
    },
    {
     "data": {
      "image/png": "[encoded data removed]",
      "text/plain": [
       "<Figure size 432x288 with 1 Axes>"
      ]
     },
     "metadata": {
      "needs_background": "light"
     },
     "output_type": "display_data"
    },
    {
     "name": "stdout",
     "output_type": "stream",
     "text": [
      "313/313 [==============================] - 1s 2ms/step\n",
      "{'rand_score': 0.876512791279128, 'f1_score': 0.5890376843465811}\n"
     ]
    },
    {
     "data": {
      "application/javascript": [
       "IPython.notebook.set_autosave_interval(1000)"
      ]
     },
     "metadata": {},
     "output_type": "display_data"
    },
    {
     "name": "stdout",
     "output_type": "stream",
     "text": [
      "Autosaving every 1 seconds\n"
     ]
    }
   ],
   "source": [
    "\n",
    "input_shape = keras.Input(shape=(28, 28, 1))\n",
    "trad_conv_ae_model = ConvolutionalAutoencoder( input_shape)\n",
    "\n",
    "trad_conv_ae_exp = ExperimentConfig()\n",
    "trad_conv_ae_exp.name = 'TraditionalConvAutoencoder'\n",
    "trad_conv_ae_exp.model = trad_conv_ae_model\n",
    "trad_conv_ae_exp.x_input_train = trad_ae_x_in\n",
    "trad_conv_ae_exp.x_output_train = trad_ae_x_out\n",
    "trad_conv_ae_exp.x_input_val = trad_ae_x_in_val\n",
    "trad_conv_ae_exp.x_output_val = trad_ae_x_out_val\n",
    "trad_conv_ae_exp.y_train = y_train\n",
    "trad_conv_ae_exp.x_data_test = x_test\n",
    "trad_conv_ae_exp.y_data_test = y_test\n",
    "\n",
    "run_experiment(trad_conv_ae_exp)\n",
    "%autosave 1"
   ]
  },
  {
   "cell_type": "code",
   "execution_count": 60,
   "id": "648d7676",
   "metadata": {},
   "outputs": [],
   "source": [
    "\n",
    "# LOAD SAVED MODEL FROM CHECK POINT\n",
    "# ae.load_weights(checkpoint_file_path)"
   ]
  },
  {
   "cell_type": "code",
   "execution_count": 18,
   "id": "62ae07bc-3346-4852-9eaf-923a077549f1",
   "metadata": {
    "tags": []
   },
   "outputs": [],
   "source": [
    "# prepare data aumentated for same class match\n",
    "# train SCAE \n",
    "# plot loss SCAE"
   ]
  },
  {
   "cell_type": "code",
   "execution_count": 97,
   "id": "c353b218-6261-46ec-84ca-beb69852f5be",
   "metadata": {
    "tags": []
   },
   "outputs": [],
   "source": [
    "# calculate encoded_vector_ae using autoencoder\n",
    "# calculate encoded_vector_vae using Variational autoencoder"
   ]
  },
  {
   "cell_type": "code",
   "execution_count": 99,
   "id": "aea79c74-becf-4c31-bc64-02559ca94498",
   "metadata": {
    "tags": []
   },
   "outputs": [],
   "source": [
    "# create function to calculate metric topK class metric\n",
    "# calculateMetric(encoded_vector_ae)\n",
    "# calculateMetric(encoded_vector_vae)"
   ]
  },
  {
   "cell_type": "code",
   "execution_count": 100,
   "id": "24676f1e-eae5-4ac4-928e-2527739e3233",
   "metadata": {
    "tags": []
   },
   "outputs": [],
   "source": [
    "# data visualisation metrics"
   ]
  },
  {
   "cell_type": "code",
   "execution_count": 101,
   "id": "8b28ecc1-7480-4b90-b15c-703302195d72",
   "metadata": {
    "tags": []
   },
   "outputs": [],
   "source": [
    "# discuss results"
   ]
  },
  {
   "cell_type": "code",
   "execution_count": null,
   "id": "d11a3847-9a99-4b6e-9939-8ee23bd781cc",
   "metadata": {},
   "outputs": [],
   "source": [
    "# if there is time, apply in another dataset"
   ]
  },
  {
   "cell_type": "code",
   "execution_count": null,
   "id": "e405144b",
   "metadata": {},
   "outputs": [],
   "source": []
  }
 ],
 "metadata": {
  "kernelspec": {
   "display_name": "Python 3 (ipykernel)",
   "language": "python",
   "name": "python3"
  },
  "language_info": {
   "codemirror_mode": {
    "name": "ipython",
    "version": 3
   },
   "file_extension": ".py",
   "mimetype": "text/x-python",
   "name": "python",
   "nbconvert_exporter": "python",
   "pygments_lexer": "ipython3",
   "version": "3.10.12"
  }
 },
 "nbformat": 4,
 "nbformat_minor": 5
}
